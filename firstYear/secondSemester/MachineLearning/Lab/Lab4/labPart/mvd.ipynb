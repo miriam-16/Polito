{
 "cells": [
  {
   "cell_type": "code",
   "execution_count": 1,
   "metadata": {},
   "outputs": [],
   "source": [
    "import numpy\n",
    "import matplotlib\n",
    "import matplotlib.pyplot as plt"
   ]
  },
  {
   "cell_type": "code",
   "execution_count": 2,
   "metadata": {},
   "outputs": [
    {
     "ename": "ValueError",
     "evalue": "operands could not be broadcast together with shapes (4,150) (1,4) ",
     "output_type": "error",
     "traceback": [
      "\u001b[0;31m---------------------------------------------------------------------------\u001b[0m",
      "\u001b[0;31mValueError\u001b[0m                                Traceback (most recent call last)",
      "Cell \u001b[0;32mIn[2], line 47\u001b[0m\n\u001b[1;32m     44\u001b[0m     logpdf \u001b[38;5;241m=\u001b[39m logpdf_GAU_ND(D, mu, C)\n\u001b[1;32m     45\u001b[0m     \u001b[38;5;28mprint\u001b[39m(logpdf)\n\u001b[0;32m---> 47\u001b[0m \u001b[43mmain\u001b[49m\u001b[43m(\u001b[49m\u001b[43m)\u001b[49m\n",
      "Cell \u001b[0;32mIn[2], line 44\u001b[0m, in \u001b[0;36mmain\u001b[0;34m()\u001b[0m\n\u001b[1;32m     41\u001b[0m nRecords \u001b[38;5;241m=\u001b[39m D\u001b[38;5;241m.\u001b[39mshape[\u001b[38;5;241m1\u001b[39m]\n\u001b[1;32m     43\u001b[0m C \u001b[38;5;241m=\u001b[39m (DC\u001b[38;5;129m@DC\u001b[39m\u001b[38;5;241m.\u001b[39mT)\u001b[38;5;241m/\u001b[39mnRecords\n\u001b[0;32m---> 44\u001b[0m logpdf \u001b[38;5;241m=\u001b[39m \u001b[43mlogpdf_GAU_ND\u001b[49m\u001b[43m(\u001b[49m\u001b[43mD\u001b[49m\u001b[43m,\u001b[49m\u001b[43m \u001b[49m\u001b[43mmu\u001b[49m\u001b[43m,\u001b[49m\u001b[43m \u001b[49m\u001b[43mC\u001b[49m\u001b[43m)\u001b[49m\n\u001b[1;32m     45\u001b[0m \u001b[38;5;28mprint\u001b[39m(logpdf)\n",
      "Cell \u001b[0;32mIn[2], line 33\u001b[0m, in \u001b[0;36mlogpdf_GAU_ND\u001b[0;34m(x, mu, C)\u001b[0m\n\u001b[1;32m     31\u001b[0m logdetC \u001b[38;5;241m=\u001b[39m numpy\u001b[38;5;241m.\u001b[39mlinalg\u001b[38;5;241m.\u001b[39mslogdet(C)[\u001b[38;5;241m1\u001b[39m]\n\u001b[1;32m     32\u001b[0m invC \u001b[38;5;241m=\u001b[39m numpy\u001b[38;5;241m.\u001b[39mlinalg\u001b[38;5;241m.\u001b[39minv(C)\n\u001b[0;32m---> 33\u001b[0m logpdf \u001b[38;5;241m=\u001b[39m \u001b[38;5;241m-\u001b[39m\u001b[38;5;241m0.5\u001b[39m \u001b[38;5;241m*\u001b[39m (d \u001b[38;5;241m*\u001b[39m numpy\u001b[38;5;241m.\u001b[39mlog(\u001b[38;5;241m2\u001b[39m \u001b[38;5;241m*\u001b[39m numpy\u001b[38;5;241m.\u001b[39mpi) \u001b[38;5;241m+\u001b[39m logdetC \u001b[38;5;241m+\u001b[39m numpy\u001b[38;5;241m.\u001b[39msum((\u001b[43mx\u001b[49m\u001b[43m \u001b[49m\u001b[38;5;241;43m-\u001b[39;49m\u001b[43m \u001b[49m\u001b[43mmu\u001b[49m\u001b[38;5;241;43m.\u001b[39;49m\u001b[43mT\u001b[49m) \u001b[38;5;241m@\u001b[39m invC \u001b[38;5;241m*\u001b[39m (x \u001b[38;5;241m-\u001b[39m mu\u001b[38;5;241m.\u001b[39mT), axis\u001b[38;5;241m=\u001b[39m\u001b[38;5;241m1\u001b[39m))\n\u001b[1;32m     34\u001b[0m \u001b[38;5;28;01mreturn\u001b[39;00m logpdf\n",
      "\u001b[0;31mValueError\u001b[0m: operands could not be broadcast together with shapes (4,150) (1,4) "
     ]
    }
   ],
   "source": [
    "def mcol(v):\n",
    "    return v.reshape((v.size, 1))\n",
    "\n",
    "\n",
    "def load(fname):\n",
    "    DList = []\n",
    "    labelsList = []\n",
    "    hLabels = {\n",
    "        'Iris-setosa': 0,\n",
    "        'Iris-versicolor': 1,\n",
    "        'Iris-virginica': 2\n",
    "        }\n",
    "\n",
    "    with open(fname) as f:\n",
    "        for line in f:\n",
    "            try:\n",
    "                attrs = line.split(',')[0:-1]\n",
    "                attrs = mcol(numpy.array([float(i) for i in attrs]))\n",
    "                name = line.split(',')[-1].strip()\n",
    "                label = hLabels[name]\n",
    "                DList.append(attrs)\n",
    "                labelsList.append(label)\n",
    "            except:\n",
    "                pass\n",
    "\n",
    "    return numpy.hstack(DList), numpy.array(labelsList, dtype=numpy.int32)\n",
    "\n",
    "def logpdf_GAU_ND(x, mu, C):\n",
    "    n = x.shape[0]\n",
    "    d = x.shape[1]\n",
    "    logdetC = numpy.linalg.slogdet(C)[1]\n",
    "    invC = numpy.linalg.inv(C)\n",
    "    logpdf = -0.5 * (d * numpy.log(2 * numpy.pi) + logdetC + numpy.sum((x - mu.T) @ invC * (x - mu.T), axis=1))\n",
    "    return logpdf\n",
    "\n",
    "def main():\n",
    "    D, L = load('iris.csv')\n",
    "    mu = D.mean(1).reshape((D.shape[0], 1))\n",
    "    DC = D - mu.reshape((mu.size, 1))\n",
    "\n",
    "    nRecords = D.shape[1]\n",
    "\n",
    "    C = (DC@DC.T)/nRecords\n",
    "    logpdf = logpdf_GAU_ND(D, mu, C)\n",
    "    print(logpdf)\n",
    "\n",
    "main()"
   ]
  }
 ],
 "metadata": {
  "kernelspec": {
   "display_name": "Python 3",
   "language": "python",
   "name": "python3"
  },
  "language_info": {
   "codemirror_mode": {
    "name": "ipython",
    "version": 3
   },
   "file_extension": ".py",
   "mimetype": "text/x-python",
   "name": "python",
   "nbconvert_exporter": "python",
   "pygments_lexer": "ipython3",
   "version": "3.10.12"
  }
 },
 "nbformat": 4,
 "nbformat_minor": 2
}
